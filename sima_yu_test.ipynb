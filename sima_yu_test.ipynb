{
  "nbformat": 4,
  "nbformat_minor": 0,
  "metadata": {
    "colab": {
      "name": "sima_yu_test.ipynb",
      "provenance": [],
      "collapsed_sections": [],
      "authorship_tag": "ABX9TyNH3794wfge/rJW0N4sJKfJ",
      "include_colab_link": true
    },
    "kernelspec": {
      "name": "python3",
      "display_name": "Python 3"
    }
  },
  "cells": [
    {
      "cell_type": "markdown",
      "metadata": {
        "id": "view-in-github",
        "colab_type": "text"
      },
      "source": [
        "<a href=\"https://colab.research.google.com/github/yuyuyu-26/AOJ/blob/main/sima_yu_test.ipynb\" target=\"_parent\"><img src=\"https://colab.research.google.com/assets/colab-badge.svg\" alt=\"Open In Colab\"/></a>"
      ]
    },
    {
      "cell_type": "code",
      "metadata": {
        "colab": {
          "base_uri": "https://localhost:8080/"
        },
        "id": "50bw2VpU185r",
        "outputId": "a9def1cf-48ad-4161-e6f1-cecae7183ca9"
      },
      "source": [
        "from google.colab import drive\r\n",
        "import csv\r\n",
        "import pandas as pd\r\n",
        "drive.mount('/content/drive')\r\n",
        "file = open(\"/content/drive/My Drive/input.txt\", \"r\", encoding=\"utf-8\")\r\n",
        "test = csv.DictReader(file)\r\n",
        "data = file.read()"
      ],
      "execution_count": 47,
      "outputs": [
        {
          "output_type": "stream",
          "text": [
            "Drive already mounted at /content/drive; to attempt to forcibly remount, call drive.mount(\"/content/drive\", force_remount=True).\n"
          ],
          "name": "stdout"
        }
      ]
    },
    {
      "cell_type": "code",
      "metadata": {
        "colab": {
          "base_uri": "https://localhost:8080/"
        },
        "id": "bkXVadqh8v4r",
        "outputId": "cb92c7ef-9bdd-4b01-b2e5-932c1c34c684"
      },
      "source": [
        "path = \"/content/drive/My Drive/input.txt\"\r\n",
        "\r\n",
        "with open(path,\"r\") as f:\r\n",
        "    l = [s.strip() for s in f.readlines()]\r\n",
        "\r\n",
        "number = int(l[len(l)-1])\r\n",
        "\r\n",
        "str_list =[]\r\n",
        "\r\n",
        "for i in range(len(l) - 1):\r\n",
        "    l_i_split = l[i].split(sep=\":\")\r\n",
        "    \r\n",
        "    int_i = int(l_i_split[0])\r\n",
        "    if number % int_i == 0:\r\n",
        "        str_list.append([l_i_split[0],l_i_split[1]])\r\n",
        "\r\n",
        "str_list.sort(key=lambda x: int(x[0]))\r\n",
        "\r\n",
        "out = []\r\n",
        "\r\n",
        "for i in range(len(str_list)):\r\n",
        "     out += str_list[i][1]\r\n",
        "\r\n",
        "print(\"\".join(out))"
      ],
      "execution_count": 99,
      "outputs": [
        {
          "output_type": "stream",
          "text": [
            "pfXvTAYBYjEAuamAEasFqMSrwrRSN6\n"
          ],
          "name": "stdout"
        }
      ]
    },
    {
      "cell_type": "code",
      "metadata": {
        "colab": {
          "base_uri": "https://localhost:8080/"
        },
        "id": "IIjTh89xNrUP",
        "outputId": "623447c3-8067-4168-cb70-b004c5129e4f"
      },
      "source": [
        "print(str_list)"
      ],
      "execution_count": 94,
      "outputs": [
        {
          "output_type": "stream",
          "text": [
            "[['17', 'pfXvTAYBYj'], ['153', 'E'], ['170', 'AuamAEa'], ['255', 'sFqMS'], ['306', 'rwrRSN'], ['612', '6']]\n"
          ],
          "name": "stdout"
        }
      ]
    },
    {
      "cell_type": "code",
      "metadata": {
        "colab": {
          "base_uri": "https://localhost:8080/"
        },
        "id": "qcJQY4QLG68W",
        "outputId": "56bd7909-c260-4248-af57-583e093b6295"
      },
      "source": [
        "print(out)"
      ],
      "execution_count": 98,
      "outputs": [
        {
          "output_type": "stream",
          "text": [
            "['p', 'f', 'X', 'v', 'T', 'A', 'Y', 'B', 'Y', 'j', 'E', 'A', 'u', 'a', 'm', 'A', 'E', 'a', 's', 'F', 'q', 'M', 'S', 'r', 'w', 'r', 'R', 'S', 'N', '6']\n"
          ],
          "name": "stdout"
        }
      ]
    },
    {
      "cell_type": "code",
      "metadata": {
        "id": "dQAFcT-GNhva"
      },
      "source": [
        ""
      ],
      "execution_count": null,
      "outputs": []
    }
  ]
}