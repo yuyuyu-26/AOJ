{
  "nbformat": 4,
  "nbformat_minor": 0,
  "metadata": {
    "colab": {
      "name": "sima_yu_test.ipynb",
      "provenance": [],
      "collapsed_sections": [],
      "authorship_tag": "ABX9TyPLHspp2OVRfmGLPkTt9ZKX",
      "include_colab_link": true
    },
    "kernelspec": {
      "name": "python3",
      "display_name": "Python 3"
    }
  },
  "cells": [
    {
      "cell_type": "markdown",
      "metadata": {
        "id": "view-in-github",
        "colab_type": "text"
      },
      "source": [
        "<a href=\"https://colab.research.google.com/github/yuyuyu-26/AOJ/blob/main/sima_yu_test.ipynb\" target=\"_parent\"><img src=\"https://colab.research.google.com/assets/colab-badge.svg\" alt=\"Open In Colab\"/></a>"
      ]
    },
    {
      "cell_type": "code",
      "metadata": {
        "colab": {
          "base_uri": "https://localhost:8080/"
        },
        "id": "50bw2VpU185r",
        "outputId": "a9def1cf-48ad-4161-e6f1-cecae7183ca9"
      },
      "source": [
        "from google.colab import drive\r\n",
        "import csv\r\n",
        "import pandas as pd\r\n",
        "drive.mount('/content/drive')\r\n",
        "file = open(\"/content/drive/My Drive/input.txt\", \"r\", encoding=\"utf-8\")\r\n",
        "test = csv.DictReader(file)\r\n",
        "data = file.read()"
      ],
      "execution_count": 47,
      "outputs": [
        {
          "output_type": "stream",
          "text": [
            "Drive already mounted at /content/drive; to attempt to forcibly remount, call drive.mount(\"/content/drive\", force_remount=True).\n"
          ],
          "name": "stdout"
        }
      ]
    },
    {
      "cell_type": "code",
      "metadata": {
        "colab": {
          "base_uri": "https://localhost:8080/"
        },
        "id": "bkXVadqh8v4r",
        "outputId": "12721575-6937-4114-a964-939f98e4eca1"
      },
      "source": [
        "path = \"/content/drive/My Drive/input.txt\"\r\n",
        "\r\n",
        "with open(path,\"r\") as f:\r\n",
        "    l = [s.strip() for s in f.readlines()]\r\n",
        "    #print(type(l))\r\n",
        "    #print(l)\r\n",
        "\r\n",
        "integer = int(l[len(l)-1])\r\n",
        "\r\n",
        "str_list =[]\r\n",
        "\r\n",
        "for i in range(len(l) - 1):\r\n",
        "    l_i_split = l[i].split(sep=\":\", maxsplit=-1)\r\n",
        "    #print(l_i_split)\r\n",
        "    \r\n",
        "    int_i = int(l_i_split[0])\r\n",
        "    if integer % int_i == 0:\r\n",
        "        #print(l_i_split[0],l_i_split[1])\r\n",
        "        str_list.append([l_i_split[0],l_i_split[1]])\r\n",
        "        \r\n",
        "#print(str_list)\r\n",
        "\r\n",
        "str_list.sort(key=lambda x: int(x[0]))\r\n",
        "#print(str_list)\r\n",
        "\r\n",
        "out = []\r\n",
        "\r\n",
        "if not str_list:\r\n",
        "    out.append(integer)\r\n",
        "    print(out[0])\r\n",
        "else:\r\n",
        "    for i in range(len(str_list)):\r\n",
        "        out += str_list[i][1]\r\n",
        "\r\n",
        "    print(\"\".join(out))"
      ],
      "execution_count": 80,
      "outputs": [
        {
          "output_type": "stream",
          "text": [
            "pfXvTAYBYjEAuamAEasFqMSrwrRSN6\n"
          ],
          "name": "stdout"
        }
      ]
    },
    {
      "cell_type": "code",
      "metadata": {
        "id": "Eczp1XauEizt"
      },
      "source": [
        ""
      ],
      "execution_count": null,
      "outputs": []
    }
  ]
}