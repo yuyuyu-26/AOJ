{
  "nbformat": 4,
  "nbformat_minor": 0,
  "metadata": {
    "colab": {
      "name": "sima_yu_test.ipynb",
      "provenance": [],
      "collapsed_sections": [],
      "authorship_tag": "ABX9TyOOMvPA3lPMbopmGhqcJSOT",
      "include_colab_link": true
    },
    "kernelspec": {
      "name": "python3",
      "display_name": "Python 3"
    }
  },
  "cells": [
    {
      "cell_type": "markdown",
      "metadata": {
        "id": "view-in-github",
        "colab_type": "text"
      },
      "source": [
        "<a href=\"https://colab.research.google.com/github/yuyuyu-26/AOJ/blob/main/sima_yu_test.ipynb\" target=\"_parent\"><img src=\"https://colab.research.google.com/assets/colab-badge.svg\" alt=\"Open In Colab\"/></a>"
      ]
    },
    {
      "cell_type": "code",
      "metadata": {
        "colab": {
          "base_uri": "https://localhost:8080/"
        },
        "id": "50bw2VpU185r",
        "outputId": "a9def1cf-48ad-4161-e6f1-cecae7183ca9"
      },
      "source": [
        "from google.colab import drive\r\n",
        "import csv\r\n",
        "import pandas as pd\r\n",
        "drive.mount('/content/drive')\r\n",
        "file = open(\"/content/drive/My Drive/input.txt\", \"r\", encoding=\"utf-8\")\r\n",
        "test = csv.DictReader(file)\r\n",
        "data = file.read()"
      ],
      "execution_count": 47,
      "outputs": [
        {
          "output_type": "stream",
          "text": [
            "Drive already mounted at /content/drive; to attempt to forcibly remount, call drive.mount(\"/content/drive\", force_remount=True).\n"
          ],
          "name": "stdout"
        }
      ]
    },
    {
      "cell_type": "code",
      "metadata": {
        "colab": {
          "base_uri": "https://localhost:8080/"
        },
        "id": "bkXVadqh8v4r",
        "outputId": "49d6066b-9968-447a-fb40-36f1bee3f616"
      },
      "source": [
        "path = \"/content/drive/My Drive/input.txt\"\r\n",
        "\r\n",
        "with open(path,\"r\") as f:\r\n",
        "    l = [s.strip() for s in f.readlines()]\r\n",
        "\r\n",
        "integer = int(l[len(l)-1])\r\n",
        "\r\n",
        "str_list =[]\r\n",
        "\r\n",
        "for i in range(len(l) - 1):\r\n",
        "    l_i_split = l[i].split(sep=\":\")\r\n",
        "    \r\n",
        "    int_i = int(l_i_split[0])\r\n",
        "    if integer % int_i == 0:\r\n",
        "        str_list.append([l_i_split[0],l_i_split[1]])\r\n",
        "\r\n",
        "str_list.sort(key=lambda x: int(x[0]))\r\n",
        "\r\n",
        "out = []\r\n",
        "\r\n",
        "if not str_list:\r\n",
        "    out.append(integer)\r\n",
        "    print(out[0])\r\n",
        "else:\r\n",
        "    for i in range(len(str_list)):\r\n",
        "        out += str_list[i][1]\r\n",
        "\r\n",
        "    print(\"\".join(out))"
      ],
      "execution_count": 86,
      "outputs": [
        {
          "output_type": "stream",
          "text": [
            "pfXvTAYBYjEAuamAEasFqMSrwrRSN6\n"
          ],
          "name": "stdout"
        }
      ]
    },
    {
      "cell_type": "code",
      "metadata": {
        "colab": {
          "base_uri": "https://localhost:8080/"
        },
        "id": "Eczp1XauEizt",
        "outputId": "ce972030-2f07-4b7a-bb0b-bb26eafa966c"
      },
      "source": [
        "print(l)"
      ],
      "execution_count": 85,
      "outputs": [
        {
          "output_type": "stream",
          "text": [
            "['767:bFX4mJ', '905:U6bUU', '896:i3GJgV', '110:2mjDVetMCu', '631:2', '367:9zgl', '147:tv5RqQa', '149:MB2wTBdh', '541:TGlT1n8Q', '920:wcGEN', '612:6', '856:qpxEqk2', '407:BEWPw0F4ZY', '609:xk', '240:N8kG', '32:y', '990:Ns', '907:O4xbwNqqCD', '573:iYH4iL9FsH', '278:nBSLldkpif', '505:Hz', '542:Bfs4pCpb', '114:3fZnnj4', '255:sFqMS', '719:ho6g3rici', '793:YioZFC3WV', '901:uT', '74:nrRkji4', '482:MA', '17:pfXvTAYBYj', '205:2l761N0xhw', '74:XBcrbgv', '139:V2rmBqmUj8', '447:Bedm', '209:jTzjs1Sg', '464:KkGaYjzFR', '252:uLpQu', '353:E9kq6', '718:KRzMw', '657:oT0MJb', '205:d7Vjvga8A', '735:3Y', '717:pQ', '715:AG', '13:FXG', '306:rwrRSN', '153:E', '158:VcEXtd', '766:vjuB', '989:VEgAg', '438:V', '170:AuamAEa', '617:vFQsN0F', '895935051710483657676643043460']\n"
          ],
          "name": "stdout"
        }
      ]
    },
    {
      "cell_type": "code",
      "metadata": {
        "id": "qcJQY4QLG68W"
      },
      "source": [
        ""
      ],
      "execution_count": null,
      "outputs": []
    }
  ]
}