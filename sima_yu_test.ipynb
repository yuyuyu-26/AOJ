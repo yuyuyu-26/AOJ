{
  "nbformat": 4,
  "nbformat_minor": 0,
  "metadata": {
    "colab": {
      "name": "sima_yu_test.ipynb",
      "provenance": [],
      "collapsed_sections": [],
      "authorship_tag": "ABX9TyNLsfLzjxkcGFGNFhAhAj0d",
      "include_colab_link": true
    },
    "kernelspec": {
      "name": "python3",
      "display_name": "Python 3"
    }
  },
  "cells": [
    {
      "cell_type": "markdown",
      "metadata": {
        "id": "view-in-github",
        "colab_type": "text"
      },
      "source": [
        "<a href=\"https://colab.research.google.com/github/yuyuyu-26/AOJ/blob/main/sima_yu_test.ipynb\" target=\"_parent\"><img src=\"https://colab.research.google.com/assets/colab-badge.svg\" alt=\"Open In Colab\"/></a>"
      ]
    },
    {
      "cell_type": "code",
      "metadata": {
        "colab": {
          "base_uri": "https://localhost:8080/"
        },
        "id": "50bw2VpU185r",
        "outputId": "a9def1cf-48ad-4161-e6f1-cecae7183ca9"
      },
      "source": [
        "from google.colab import drive\r\n",
        "import csv\r\n",
        "import pandas as pd\r\n",
        "drive.mount('/content/drive')\r\n",
        "file = open(\"/content/drive/My Drive/input.txt\", \"r\", encoding=\"utf-8\")\r\n",
        "test = csv.DictReader(file)\r\n",
        "data = file.read()"
      ],
      "execution_count": 47,
      "outputs": [
        {
          "output_type": "stream",
          "text": [
            "Drive already mounted at /content/drive; to attempt to forcibly remount, call drive.mount(\"/content/drive\", force_remount=True).\n"
          ],
          "name": "stdout"
        }
      ]
    },
    {
      "cell_type": "code",
      "metadata": {
        "colab": {
          "base_uri": "https://localhost:8080/"
        },
        "id": "bkXVadqh8v4r",
        "outputId": "b4ec14ba-c9ed-479d-ca99-69ea9914cee5"
      },
      "source": [
        "path = \"/content/drive/My Drive/input.txt\"\r\n",
        "\r\n",
        "with open(path,\"r\") as f:\r\n",
        "    l = [s.strip() for s in f.readlines()]\r\n",
        "\r\n",
        "number = int(l[len(l)-1])\r\n",
        "\r\n",
        "str_list =[]\r\n",
        "\r\n",
        "for i in range(len(l) - 1):\r\n",
        "    l_i_split = l[i].split(sep=\":\")\r\n",
        "    \r\n",
        "    int_i = int(l_i_split[0])\r\n",
        "    if number % int_i == 0:\r\n",
        "        str_list.append([l_i_split[0],l_i_split[1]])\r\n",
        "\r\n",
        "str_list.sort(key=lambda x: int(x[0]))\r\n",
        "\r\n",
        "out = []\r\n",
        "\r\n",
        "for i in range(len(str_list)):\r\n",
        "     out += str_list[i][1]\r\n",
        "\r\n",
        "print(\"\".join(out))"
      ],
      "execution_count": 89,
      "outputs": [
        {
          "output_type": "stream",
          "text": [
            "pfXvTAYBYjEAuamAEasFqMSrwrRSN6\n"
          ],
          "name": "stdout"
        }
      ]
    },
    {
      "cell_type": "code",
      "metadata": {
        "colab": {
          "base_uri": "https://localhost:8080/"
        },
        "id": "Eczp1XauEizt",
        "outputId": "1c2abad5-5f6e-4a43-fe72-ee00e235496e"
      },
      "source": [
        "print(out)"
      ],
      "execution_count": 87,
      "outputs": [
        {
          "output_type": "stream",
          "text": [
            "['p', 'f', 'X', 'v', 'T', 'A', 'Y', 'B', 'Y', 'j', 'E', 'A', 'u', 'a', 'm', 'A', 'E', 'a', 's', 'F', 'q', 'M', 'S', 'r', 'w', 'r', 'R', 'S', 'N', '6']\n"
          ],
          "name": "stdout"
        }
      ]
    },
    {
      "cell_type": "code",
      "metadata": {
        "id": "qcJQY4QLG68W"
      },
      "source": [
        ""
      ],
      "execution_count": null,
      "outputs": []
    }
  ]
}